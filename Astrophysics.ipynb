{
 "cells": [
  {
   "cell_type": "markdown",
   "metadata": {},
   "source": [
    "# Astrophysical examples"
   ]
  },
  {
   "cell_type": "markdown",
   "metadata": {},
   "source": [
    "## Gravitational waves !\n",
    "\n",
    "Are you curious about gravitational-waves? The [Open Data Workshop](https://github.com/gw-odw/odw-2022) as several notebooks describing the tools to analyse Gravitational-wave data, with some challenges..."
   ]
  },
  {
   "cell_type": "code",
   "execution_count": null,
   "metadata": {},
   "outputs": [],
   "source": []
  },
  {
   "cell_type": "markdown",
   "metadata": {},
   "source": [
    "## Exoplanet transits\n",
    "\n",
    "Look at the tutorial at: http://www.astro.wisc.edu/~vanderburg/tutorial/tutorial.html. Use `curve_fit()` to analyse transit data from the [Kepler space telescope](https://en.wikipedia.org/wiki/Kepler_space_telescope) and obtain the properties of explanets."
   ]
  },
  {
   "cell_type": "code",
   "execution_count": null,
   "metadata": {},
   "outputs": [],
   "source": []
  }
 ],
 "metadata": {
  "kernelspec": {
   "display_name": "Python 3",
   "language": "python",
   "name": "python3"
  },
  "language_info": {
   "codemirror_mode": {
    "name": "ipython",
    "version": 3
   },
   "file_extension": ".py",
   "mimetype": "text/x-python",
   "name": "python",
   "nbconvert_exporter": "python",
   "pygments_lexer": "ipython3",
   "version": "3.7.10"
  }
 },
 "nbformat": 4,
 "nbformat_minor": 2
}
